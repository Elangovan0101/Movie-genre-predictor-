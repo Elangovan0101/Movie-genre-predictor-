{
 "cells": [
  {
   "cell_type": "code",
   "execution_count": 1,
   "metadata": {},
   "outputs": [],
   "source": [
    "import numpy as np \n",
    "import pandas as pd \n",
    "import seaborn as sns\n",
    "import matplotlib.pyplot as plt\n",
    "%matplotlib inline "
   ]
  },
  {
   "cell_type": "code",
   "execution_count": 2,
   "metadata": {},
   "outputs": [],
   "source": [
    "from bs4 import BeautifulSoup\n",
    "import re\n",
    "from nltk.corpus import stopwords\n",
    "\n",
    "from sklearn import svm\n",
    "from sklearn.model_selection import train_test_split\n",
    "from sklearn.feature_extraction.text import CountVectorizer\n",
    "from sklearn.metrics import accuracy_score, confusion_matrix, recall_score, precision_score, f1_score\n"
   ]
  },
  {
   "cell_type": "code",
   "execution_count": 3,
   "metadata": {},
   "outputs": [
    {
     "name": "stderr",
     "output_type": "stream",
     "text": [
      "C:\\Users\\VJ_Mahesh\\AppData\\Local\\Temp\\ipykernel_16884\\479091296.py:7: DtypeWarning: Columns (26,27,28,29,30,32,34,36,38,39) have mixed types. Specify dtype option on import or set low_memory=False.\n",
      "  df = pd.read_csv(csv_file_path, encoding='latin-1')\n"
     ]
    },
    {
     "data": {
      "text/html": [
       "<div>\n",
       "<style scoped>\n",
       "    .dataframe tbody tr th:only-of-type {\n",
       "        vertical-align: middle;\n",
       "    }\n",
       "\n",
       "    .dataframe tbody tr th {\n",
       "        vertical-align: top;\n",
       "    }\n",
       "\n",
       "    .dataframe thead th {\n",
       "        text-align: right;\n",
       "    }\n",
       "</style>\n",
       "<table border=\"1\" class=\"dataframe\">\n",
       "  <thead>\n",
       "    <tr style=\"text-align: right;\">\n",
       "      <th></th>\n",
       "      <th>ID</th>\n",
       "      <th>Title</th>\n",
       "      <th>Genre</th>\n",
       "      <th>Plot</th>\n",
       "      <th>Unnamed: 4</th>\n",
       "      <th>Unnamed: 5</th>\n",
       "      <th>Unnamed: 6</th>\n",
       "      <th>Unnamed: 7</th>\n",
       "      <th>Unnamed: 8</th>\n",
       "      <th>Unnamed: 9</th>\n",
       "      <th>...</th>\n",
       "      <th>Unnamed: 30</th>\n",
       "      <th>Unnamed: 31</th>\n",
       "      <th>Unnamed: 32</th>\n",
       "      <th>Unnamed: 33</th>\n",
       "      <th>Unnamed: 34</th>\n",
       "      <th>Unnamed: 35</th>\n",
       "      <th>Unnamed: 36</th>\n",
       "      <th>Unnamed: 37</th>\n",
       "      <th>Unnamed: 38</th>\n",
       "      <th>Unnamed: 39</th>\n",
       "    </tr>\n",
       "  </thead>\n",
       "  <tbody>\n",
       "    <tr>\n",
       "      <th>54208</th>\n",
       "      <td>54210</td>\n",
       "      <td>Bonino (1953)</td>\n",
       "      <td>comedy</td>\n",
       "      <td>This short-lived NBC live sitcom centered on B...</td>\n",
       "      <td>NaN</td>\n",
       "      <td>NaN</td>\n",
       "      <td>NaN</td>\n",
       "      <td>NaN</td>\n",
       "      <td>NaN</td>\n",
       "      <td>NaN</td>\n",
       "      <td>...</td>\n",
       "      <td>NaN</td>\n",
       "      <td>NaN</td>\n",
       "      <td>NaN</td>\n",
       "      <td>NaN</td>\n",
       "      <td>NaN</td>\n",
       "      <td>NaN</td>\n",
       "      <td>NaN</td>\n",
       "      <td>NaN</td>\n",
       "      <td>NaN</td>\n",
       "      <td>NaN</td>\n",
       "    </tr>\n",
       "    <tr>\n",
       "      <th>54209</th>\n",
       "      <td>54211</td>\n",
       "      <td>Dead Girls Don't Cry (????)</td>\n",
       "      <td>horror</td>\n",
       "      <td>The NEXT Generation of EXPLOITATION. The siste...</td>\n",
       "      <td>NaN</td>\n",
       "      <td>NaN</td>\n",
       "      <td>NaN</td>\n",
       "      <td>NaN</td>\n",
       "      <td>NaN</td>\n",
       "      <td>NaN</td>\n",
       "      <td>...</td>\n",
       "      <td>NaN</td>\n",
       "      <td>NaN</td>\n",
       "      <td>NaN</td>\n",
       "      <td>NaN</td>\n",
       "      <td>NaN</td>\n",
       "      <td>NaN</td>\n",
       "      <td>NaN</td>\n",
       "      <td>NaN</td>\n",
       "      <td>NaN</td>\n",
       "      <td>NaN</td>\n",
       "    </tr>\n",
       "    <tr>\n",
       "      <th>54210</th>\n",
       "      <td>54212</td>\n",
       "      <td>Ronald Goedemondt</td>\n",
       "      <td>Ze bestaan echt (2008)</td>\n",
       "      <td>documentary</td>\n",
       "      <td>Ze bestaan echt, is a stand-up comedy about gr...</td>\n",
       "      <td>NaN</td>\n",
       "      <td>NaN</td>\n",
       "      <td>NaN</td>\n",
       "      <td>NaN</td>\n",
       "      <td>NaN</td>\n",
       "      <td>...</td>\n",
       "      <td>NaN</td>\n",
       "      <td>NaN</td>\n",
       "      <td>NaN</td>\n",
       "      <td>NaN</td>\n",
       "      <td>NaN</td>\n",
       "      <td>NaN</td>\n",
       "      <td>NaN</td>\n",
       "      <td>NaN</td>\n",
       "      <td>NaN</td>\n",
       "      <td>NaN</td>\n",
       "    </tr>\n",
       "    <tr>\n",
       "      <th>54211</th>\n",
       "      <td>54213</td>\n",
       "      <td>Make Your Own Bed (1944)</td>\n",
       "      <td>comedy</td>\n",
       "      <td>Walter and Vivian live in the country and have...</td>\n",
       "      <td>NaN</td>\n",
       "      <td>NaN</td>\n",
       "      <td>NaN</td>\n",
       "      <td>NaN</td>\n",
       "      <td>NaN</td>\n",
       "      <td>NaN</td>\n",
       "      <td>...</td>\n",
       "      <td>NaN</td>\n",
       "      <td>NaN</td>\n",
       "      <td>NaN</td>\n",
       "      <td>NaN</td>\n",
       "      <td>NaN</td>\n",
       "      <td>NaN</td>\n",
       "      <td>NaN</td>\n",
       "      <td>NaN</td>\n",
       "      <td>NaN</td>\n",
       "      <td>NaN</td>\n",
       "    </tr>\n",
       "    <tr>\n",
       "      <th>54212</th>\n",
       "      <td>54214</td>\n",
       "      <td>Nature's Fury</td>\n",
       "      <td>Storm of the Century (2006)</td>\n",
       "      <td>history</td>\n",
       "      <td>On Labor Day Weekend, 1935, the most intense h...</td>\n",
       "      <td>NaN</td>\n",
       "      <td>NaN</td>\n",
       "      <td>NaN</td>\n",
       "      <td>NaN</td>\n",
       "      <td>NaN</td>\n",
       "      <td>...</td>\n",
       "      <td>NaN</td>\n",
       "      <td>NaN</td>\n",
       "      <td>NaN</td>\n",
       "      <td>NaN</td>\n",
       "      <td>NaN</td>\n",
       "      <td>NaN</td>\n",
       "      <td>NaN</td>\n",
       "      <td>NaN</td>\n",
       "      <td>NaN</td>\n",
       "      <td>NaN</td>\n",
       "    </tr>\n",
       "  </tbody>\n",
       "</table>\n",
       "<p>5 rows × 40 columns</p>\n",
       "</div>"
      ],
      "text/plain": [
       "          ID                        Title                        Genre  \\\n",
       "54208  54210                Bonino (1953)                       comedy   \n",
       "54209  54211  Dead Girls Don't Cry (????)                       horror   \n",
       "54210  54212            Ronald Goedemondt       Ze bestaan echt (2008)   \n",
       "54211  54213     Make Your Own Bed (1944)                       comedy   \n",
       "54212  54214                Nature's Fury  Storm of the Century (2006)   \n",
       "\n",
       "                                                    Plot  \\\n",
       "54208  This short-lived NBC live sitcom centered on B...   \n",
       "54209  The NEXT Generation of EXPLOITATION. The siste...   \n",
       "54210                                        documentary   \n",
       "54211  Walter and Vivian live in the country and have...   \n",
       "54212                                            history   \n",
       "\n",
       "                                              Unnamed: 4 Unnamed: 5  \\\n",
       "54208                                                NaN        NaN   \n",
       "54209                                                NaN        NaN   \n",
       "54210  Ze bestaan echt, is a stand-up comedy about gr...        NaN   \n",
       "54211                                                NaN        NaN   \n",
       "54212  On Labor Day Weekend, 1935, the most intense h...        NaN   \n",
       "\n",
       "      Unnamed: 6 Unnamed: 7 Unnamed: 8 Unnamed: 9  ... Unnamed: 30  \\\n",
       "54208        NaN        NaN        NaN        NaN  ...         NaN   \n",
       "54209        NaN        NaN        NaN        NaN  ...         NaN   \n",
       "54210        NaN        NaN        NaN        NaN  ...         NaN   \n",
       "54211        NaN        NaN        NaN        NaN  ...         NaN   \n",
       "54212        NaN        NaN        NaN        NaN  ...         NaN   \n",
       "\n",
       "      Unnamed: 31 Unnamed: 32 Unnamed: 33 Unnamed: 34 Unnamed: 35 Unnamed: 36  \\\n",
       "54208         NaN         NaN         NaN         NaN         NaN         NaN   \n",
       "54209         NaN         NaN         NaN         NaN         NaN         NaN   \n",
       "54210         NaN         NaN         NaN         NaN         NaN         NaN   \n",
       "54211         NaN         NaN         NaN         NaN         NaN         NaN   \n",
       "54212         NaN         NaN         NaN         NaN         NaN         NaN   \n",
       "\n",
       "      Unnamed: 37 Unnamed: 38 Unnamed: 39  \n",
       "54208         NaN         NaN         NaN  \n",
       "54209         NaN         NaN         NaN  \n",
       "54210         NaN         NaN         NaN  \n",
       "54211         NaN         NaN         NaN  \n",
       "54212         NaN         NaN         NaN  \n",
       "\n",
       "[5 rows x 40 columns]"
      ]
     },
     "execution_count": 3,
     "metadata": {},
     "output_type": "execute_result"
    }
   ],
   "source": [
    "import pandas as pd\n",
    "\n",
    "csv_file_path = 'movie_data.csv'\n",
    "\n",
    "df = pd.read_csv(csv_file_path, encoding='latin-1')\n",
    "df.tail()\n"
   ]
  },
  {
   "cell_type": "code",
   "execution_count": 4,
   "metadata": {},
   "outputs": [
    {
     "name": "stdout",
     "output_type": "stream",
     "text": [
      "<class 'pandas.core.frame.DataFrame'>\n",
      "RangeIndex: 54213 entries, 0 to 54212\n",
      "Data columns (total 40 columns):\n",
      " #   Column       Non-Null Count  Dtype  \n",
      "---  ------       --------------  -----  \n",
      " 0   ID           54213 non-null  object \n",
      " 1   Title        54213 non-null  object \n",
      " 2   Genre        54207 non-null  object \n",
      " 3   Plot         54197 non-null  object \n",
      " 4   Unnamed: 4   11401 non-null  object \n",
      " 5   Unnamed: 5   2432 non-null   object \n",
      " 6   Unnamed: 6   642 non-null    object \n",
      " 7   Unnamed: 7   255 non-null    object \n",
      " 8   Unnamed: 8   140 non-null    object \n",
      " 9   Unnamed: 9   89 non-null     object \n",
      " 10  Unnamed: 10  63 non-null     object \n",
      " 11  Unnamed: 11  48 non-null     object \n",
      " 12  Unnamed: 12  40 non-null     object \n",
      " 13  Unnamed: 13  33 non-null     object \n",
      " 14  Unnamed: 14  28 non-null     object \n",
      " 15  Unnamed: 15  22 non-null     object \n",
      " 16  Unnamed: 16  17 non-null     object \n",
      " 17  Unnamed: 17  14 non-null     object \n",
      " 18  Unnamed: 18  12 non-null     object \n",
      " 19  Unnamed: 19  12 non-null     object \n",
      " 20  Unnamed: 20  10 non-null     object \n",
      " 21  Unnamed: 21  8 non-null      object \n",
      " 22  Unnamed: 22  7 non-null      object \n",
      " 23  Unnamed: 23  7 non-null      object \n",
      " 24  Unnamed: 24  7 non-null      object \n",
      " 25  Unnamed: 25  6 non-null      object \n",
      " 26  Unnamed: 26  3 non-null      object \n",
      " 27  Unnamed: 27  3 non-null      object \n",
      " 28  Unnamed: 28  2 non-null      object \n",
      " 29  Unnamed: 29  2 non-null      object \n",
      " 30  Unnamed: 30  1 non-null      object \n",
      " 31  Unnamed: 31  1 non-null      float64\n",
      " 32  Unnamed: 32  1 non-null      object \n",
      " 33  Unnamed: 33  1 non-null      float64\n",
      " 34  Unnamed: 34  1 non-null      object \n",
      " 35  Unnamed: 35  1 non-null      float64\n",
      " 36  Unnamed: 36  1 non-null      object \n",
      " 37  Unnamed: 37  1 non-null      float64\n",
      " 38  Unnamed: 38  1 non-null      object \n",
      " 39  Unnamed: 39  1 non-null      object \n",
      "dtypes: float64(4), object(36)\n",
      "memory usage: 16.5+ MB\n"
     ]
    }
   ],
   "source": [
    "df.info()\n"
   ]
  },
  {
   "cell_type": "code",
   "execution_count": 5,
   "metadata": {},
   "outputs": [
    {
     "name": "stdout",
     "output_type": "stream",
     "text": [
      "          ID                        Title                        Genre  \\\n",
      "54208  54210                Bonino (1953)                       comedy   \n",
      "54209  54211  Dead Girls Don't Cry (????)                       horror   \n",
      "54210  54212            Ronald Goedemondt       Ze bestaan echt (2008)   \n",
      "54211  54213     Make Your Own Bed (1944)                       comedy   \n",
      "54212  54214                Nature's Fury  Storm of the Century (2006)   \n",
      "\n",
      "                                                    Plot  \\\n",
      "54208  This short-lived NBC live sitcom centered on B...   \n",
      "54209  The NEXT Generation of EXPLOITATION. The siste...   \n",
      "54210                                        documentary   \n",
      "54211  Walter and Vivian live in the country and have...   \n",
      "54212                                            history   \n",
      "\n",
      "                                              Unnamed: 4 Unnamed: 5  \\\n",
      "54208                                                NaN        NaN   \n",
      "54209                                                NaN        NaN   \n",
      "54210  Ze bestaan echt, is a stand-up comedy about gr...        NaN   \n",
      "54211                                                NaN        NaN   \n",
      "54212  On Labor Day Weekend, 1935, the most intense h...        NaN   \n",
      "\n",
      "      Unnamed: 6 Unnamed: 7 Unnamed: 8 Unnamed: 9  ... Unnamed: 30  \\\n",
      "54208        NaN        NaN        NaN        NaN  ...         NaN   \n",
      "54209        NaN        NaN        NaN        NaN  ...         NaN   \n",
      "54210        NaN        NaN        NaN        NaN  ...         NaN   \n",
      "54211        NaN        NaN        NaN        NaN  ...         NaN   \n",
      "54212        NaN        NaN        NaN        NaN  ...         NaN   \n",
      "\n",
      "      Unnamed: 31 Unnamed: 32 Unnamed: 33 Unnamed: 34 Unnamed: 35 Unnamed: 36  \\\n",
      "54208         NaN         NaN         NaN         NaN         NaN         NaN   \n",
      "54209         NaN         NaN         NaN         NaN         NaN         NaN   \n",
      "54210         NaN         NaN         NaN         NaN         NaN         NaN   \n",
      "54211         NaN         NaN         NaN         NaN         NaN         NaN   \n",
      "54212         NaN         NaN         NaN         NaN         NaN         NaN   \n",
      "\n",
      "      Unnamed: 37 Unnamed: 38 Unnamed: 39  \n",
      "54208         NaN         NaN         NaN  \n",
      "54209         NaN         NaN         NaN  \n",
      "54210         NaN         NaN         NaN  \n",
      "54211         NaN         NaN         NaN  \n",
      "54212         NaN         NaN         NaN  \n",
      "\n",
      "[5 rows x 40 columns]\n"
     ]
    }
   ],
   "source": [
    "df['Genre']=df['Genre'].replace('unknown',np.nan)\n",
    "df=df.dropna(axis=0, subset=['Genre'])\n",
    "print(df.tail())"
   ]
  },
  {
   "cell_type": "code",
   "execution_count": 6,
   "metadata": {},
   "outputs": [
    {
     "name": "stdout",
     "output_type": "stream",
     "text": [
      "54207\n",
      "(54207, 40)\n",
      "['drama', 'documentary', 'comedy', 'short', 'horror', 'thriller', 'action', 'western', 'reality-tv', 'family', 'adventure', 'romance', 'sci-fi', 'adult', 'crime', 'music', 'animation', 'talk-show', 'sport', 'mystery']\n"
     ]
    }
   ],
   "source": [
    "print(len(df))\n",
    "print(df.shape)\n",
    "a=df['Genre'].value_counts()[:20]\n",
    "b=a.keys().tolist()\n",
    "print(b)\n",
    "df=df[df.Genre.isin(b)]\n",
    "df=df.reset_index(drop=True)"
   ]
  },
  {
   "cell_type": "code",
   "execution_count": 7,
   "metadata": {},
   "outputs": [
    {
     "name": "stderr",
     "output_type": "stream",
     "text": [
      "C:\\Users\\VJ_Mahesh\\AppData\\Local\\Temp\\ipykernel_16884\\3462301063.py:4: FutureWarning: \n",
      "\n",
      "Passing `palette` without assigning `hue` is deprecated and will be removed in v0.14.0. Assign the `y` variable to `hue` and set `legend=False` for the same effect.\n",
      "\n",
      "  sns.barplot(y=\"Genre\", x=\"Count\", data=genre_to_count,palette=\"Blues_d\")\n"
     ]
    },
    {
     "data": {
      "text/plain": [
       "<Axes: xlabel='Count', ylabel='Genre'>"
      ]
     },
     "execution_count": 7,
     "metadata": {},
     "output_type": "execute_result"
    },
    {
     "data": {
      "image/png": "[encoded data removed]",
      "text/plain": [
       "<Figure size 1500x1000 with 1 Axes>"
      ]
     },
     "metadata": {},
     "output_type": "display_data"
    }
   ],
   "source": [
    "sns.set(style=\"white\")\n",
    "genre_to_count=pd.DataFrame({'Genre':a.index, 'Count':a.values})\n",
    "plt.figure(figsize=(15,10))\n",
    "sns.barplot(y=\"Genre\", x=\"Count\", data=genre_to_count,palette=\"Blues_d\")\n"
   ]
  },
  {
   "cell_type": "code",
   "execution_count": 58,
   "metadata": {},
   "outputs": [
    {
     "name": "stdout",
     "output_type": "stream",
     "text": [
      "0    brother sister past incestuous relationship cu...\n",
      "1    bus empties students field trip museum natural...\n",
      "2    help unemployed father make ends meet edith tw...\n",
      "3    film title refers un recovered bodies ground z...\n",
      "4    quality control consists series mm single take...\n",
      "5    tough economic times max joey run ideas discov...\n",
      "6    ron petrie keanu reeves troubled teen whose li...\n",
      "7    sudden calamitous event causing great loss lif...\n",
      "8    four high school students embark terrifying jo...\n",
      "9    danny dying aids returns home last months alwa...\n",
      "Name: Plot, dtype: object\n"
     ]
    }
   ],
   "source": [
    "def plotToWords(raw_plot):\n",
    "    letters_only = re.sub(\"[^a-zA-Z]\", \" \", raw_plot)\n",
    "    lower_case = letters_only.lower()\n",
    "    words = lower_case.split()\n",
    "    stops = set(stopwords.words(\"english\"))\n",
    "    meaningful_words = [w for w in words if not w in stops]\n",
    "    return (\" \".join(meaningful_words))\n",
    "\n",
    "def preprocess(dataframe):\n",
    "    clean_train_reviews = []\n",
    "    for i in range(0,len(dataframe)):\n",
    "        clean_train_reviews.append(plotToWords(dataframe.iloc[i]['Plot']))\n",
    "    dataframe['Plot']=clean_train_reviews\n",
    "    return dataframe\n",
    "\n",
    "df=preprocess(df)\n",
    "print(df[\"Plot\"][:10])"
   ]
  },
  {
   "cell_type": "code",
   "execution_count": 9,
   "metadata": {},
   "outputs": [
    {
     "data": {
      "text/plain": [
       "(47080, 4000)"
      ]
     },
     "execution_count": 9,
     "metadata": {},
     "output_type": "execute_result"
    }
   ],
   "source": [
    "from sklearn.feature_extraction.text import TfidfVectorizer\n",
    "tfidf = TfidfVectorizer(sublinear_tf=True, min_df=5, norm='l2', encoding='latin-1', ngram_range=(1, 2), max_features=4000)\n",
    "features = tfidf.fit_transform(df.Plot).toarray()\n",
    "labels = df.Genre\n",
    "features.shape"
   ]
  },
  {
   "cell_type": "code",
   "execution_count": 10,
   "metadata": {},
   "outputs": [],
   "source": [
    "from sklearn.model_selection import train_test_split\n",
    "from sklearn.feature_extraction.text import CountVectorizer\n",
    "from sklearn.feature_extraction.text import TfidfTransformer\n",
    "from sklearn.naive_bayes import MultinomialNB\n",
    "X_train, X_test, y_train, y_test = train_test_split(df['Plot'], df['Genre'], random_state = 0)\n",
    "count_vect = CountVectorizer()\n",
    "X_train_counts = count_vect.fit_transform(X_train)\n",
    "tfidf_transformer = TfidfTransformer()\n",
    "X_train_tfidf = tfidf_transformer.fit_transform(X_train_counts)\n",
    "clf = MultinomialNB().fit(X_train_tfidf, y_train)\n"
   ]
  },
  {
   "cell_type": "code",
   "execution_count": 56,
   "metadata": {},
   "outputs": [
    {
     "name": "stdout",
     "output_type": "stream",
     "text": [
      "['documentary']\n"
     ]
    }
   ],
   "source": [
    "print(clf.predict(count_vect.transform([\"sanford\"])))"
   ]
  }
 ],
 "metadata": {
  "kernelspec": {
   "display_name": "Python 3",
   "language": "python",
   "name": "python3"
  },
  "language_info": {
   "codemirror_mode": {
    "name": "ipython",
    "version": 3
   },
   "file_extension": ".py",
   "mimetype": "text/x-python",
   "name": "python",
   "nbconvert_exporter": "python",
   "pygments_lexer": "ipython3",
   "version": "3.11.5"
  }
 },
 "nbformat": 4,
 "nbformat_minor": 2
}
